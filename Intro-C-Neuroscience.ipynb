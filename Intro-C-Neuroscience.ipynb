{
 "cells": [
  {
   "cell_type": "code",
   "execution_count": 36,
   "metadata": {},
   "outputs": [],
   "source": [
    "def getDerivative (x):\n",
    "    res = -0.1*(x+1)\n",
    "    \n",
    "    return round(res,2)"
   ]
  },
  {
   "cell_type": "code",
   "execution_count": 45,
   "metadata": {},
   "outputs": [],
   "source": [
    "def getNextValue (lastValue,stepLength,limit): \n",
    "    \n",
    "    if limit >=0:\n",
    "        nextValue = lastValue + stepLength*getDerivative(lastValue) \n",
    "        \n",
    "        print([4-limit,round(lastValue,2),getDerivative(lastValue)])\n",
    "        \n",
    "        limit = limit - stepLength\n",
    "        getNextValue(nextValue,stepLength,limit)"
   ]
  },
  {
   "cell_type": "code",
   "execution_count": 49,
   "metadata": {},
   "outputs": [
    {
     "name": "stdout",
     "output_type": "stream",
     "text": [
      "['t', 'x(t)', \"x'(t)\"]\n",
      "[0, 5, -0.6]\n",
      "[0.5, 4.7, -0.57]\n",
      "[1.0, 4.42, -0.54]\n",
      "[1.5, 4.14, -0.51]\n",
      "[2.0, 3.89, -0.49]\n",
      "[2.5, 3.64, -0.46]\n",
      "[3.0, 3.41, -0.44]\n",
      "[3.5, 3.19, -0.42]\n",
      "[4.0, 2.98, -0.4]\n"
     ]
    }
   ],
   "source": [
    "# stepLength = 1\n",
    "stepLength = 0.5\n",
    "limit = 4\n",
    "initialValue = 5\n",
    "print(['t','x(t)','x\\'(t)'])\n",
    "\n",
    "getNextValue(initialValue,stepLength,limit)"
   ]
  },
  {
   "cell_type": "code",
   "execution_count": null,
   "metadata": {},
   "outputs": [],
   "source": []
  },
  {
   "cell_type": "code",
   "execution_count": null,
   "metadata": {},
   "outputs": [],
   "source": []
  }
 ],
 "metadata": {
  "kernelspec": {
   "display_name": "Python 3",
   "language": "python",
   "name": "python3"
  },
  "language_info": {
   "codemirror_mode": {
    "name": "ipython",
    "version": 3
   },
   "file_extension": ".py",
   "mimetype": "text/x-python",
   "name": "python",
   "nbconvert_exporter": "python",
   "pygments_lexer": "ipython3",
   "version": "3.9.0"
  }
 },
 "nbformat": 4,
 "nbformat_minor": 4
}
