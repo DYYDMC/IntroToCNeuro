{
 "cells": [
  {
   "cell_type": "code",
   "execution_count": null,
   "metadata": {},
   "outputs": [],
   "source": [
    "def getDerivative (x):\n",
    "    res = -0.1*(x+1)\n",
    "    \n",
    "    return round(res,2)"
   ]
  },
  {
   "cell_type": "code",
   "execution_count": null,
   "metadata": {},
   "outputs": [],
   "source": [
    "def getNextValue (lastValue,stepSize): \n",
    "    \n",
    "    res = lastValue + stepSize*getDerivative(lastValue) \n",
    "    # res = next value\n",
    "    print([round(lastValue,2),getDerivative(lastValue)])\n",
    "    \n",
    "    getNextValue(res,stepSize)\n",
    "    return res"
   ]
  },
  {
   "cell_type": "code",
   "execution_count": null,
   "metadata": {},
   "outputs": [],
   "source": [
    "# stepLength = 1\n",
    "stepLength = 0.5\n",
    "i = 0\n",
    "NextValue = 0\n",
    "while (4-stepLength*i)>= 0 :\n",
    "    if i == 0:\n",
    "        NextValue = getNextValue(5,0.5)\n",
    "    else:\n",
    "        NextValue = getNextValue(NextValue,0.5)\n",
    "    i += 1"
   ]
  },
  {
   "cell_type": "code",
   "execution_count": null,
   "metadata": {},
   "outputs": [],
   "source": []
  }
 ],
 "metadata": {
  "kernelspec": {
   "display_name": "Python 3",
   "language": "python",
   "name": "python3"
  },
  "language_info": {
   "codemirror_mode": {
    "name": "ipython",
    "version": 3
   },
   "file_extension": ".py",
   "mimetype": "text/x-python",
   "name": "python",
   "nbconvert_exporter": "python",
   "pygments_lexer": "ipython3",
   "version": "3.9.0"
  }
 },
 "nbformat": 4,
 "nbformat_minor": 4
}
